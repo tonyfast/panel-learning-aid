{
 "cells": [
  {
   "cell_type": "markdown",
   "metadata": {},
   "source": [
    "[Panel](https://panel.holoviz.org/index.html) is a open source python library that makes it easy to build interactive web apps and dashboards with user defined widgets.  There are a whole set of widgets available to use in the panel library.  However, did you know that you can also use [ipywidgets](https://ipywidgets.readthedocs.io/en/latest/) in panel as seamlessly as using panel widgets?  "
   ]
  },
  {
   "cell_type": "markdown",
   "metadata": {},
   "source": [
    "This notebook will demonstrate an example of using ipywigets in a panel app.  We are going to take an modify an [example](https://panel.holoviz.org/user_guide/APIs.html) from the panel website and switch out the panel ColorPicker widget with the ipywidgets ColorPicker widget.  We'll also add a few other ipywidgets to change the size and shape of the markers just for fun."
   ]
  },
  {
   "cell_type": "code",
   "execution_count": null,
   "metadata": {},
   "outputs": [],
   "source": [
    "import hvplot.pandas, panel, ipywidgets, bokeh.sampledata.autompg; panel.extension()"
   ]
  },
  {
   "cell_type": "markdown",
   "metadata": {},
   "source": [
    "`autompg` is a sample dataframe included in the bokeh package.  It includes the columns shown here."
   ]
  },
  {
   "cell_type": "code",
   "execution_count": null,
   "metadata": {},
   "outputs": [],
   "source": [
    "bokeh.sampledata.autompg.autompg.head()"
   ]
  },
  {
   "cell_type": "markdown",
   "metadata": {},
   "source": [
    "We can create various scatter plots using the columns in the dataframe as variables.  One example is show here."
   ]
  },
  {
   "cell_type": "code",
   "execution_count": null,
   "metadata": {},
   "outputs": [],
   "source": [
    "bokeh.sampledata.autompg.autompg.hvplot.scatter('mpg', 'hp')"
   ]
  },
  {
   "cell_type": "markdown",
   "metadata": {},
   "source": [
    "We can use the sample data above along with the hvplot.Scatter function to create a panel application that includes a few widgets to adjust the plot."
   ]
  },
  {
   "cell_type": "markdown",
   "metadata": {},
   "source": [
    "First, we'll define a few panel widgets.  Both of the widgets `independent` and `dependent` are drop down menus that will display the different columns from the autompg dataframe as options for the independent and dependent variables of our plot."
   ]
  },
  {
   "cell_type": "code",
   "execution_count": null,
   "metadata": {},
   "outputs": [],
   "source": [
    "independent = panel.widgets.Select(value='mpg', options=list(bokeh.sampledata.autompg.autompg.columns[:-2]), name='x')\n",
    "dependent = panel.widgets.Select(value='hp', options=list(bokeh.sampledata.autompg.autompg.columns[:-2]), name='y')"
   ]
  },
  {
   "cell_type": "markdown",
   "metadata": {},
   "source": [
    "Next, we'll define some ipywidgets."
   ]
  },
  {
   "cell_type": "markdown",
   "metadata": {},
   "source": [
    "The first one is an ipywidget that will be used to change the color of the markers."
   ]
  },
  {
   "cell_type": "code",
   "execution_count": null,
   "metadata": {},
   "outputs": [],
   "source": [
    "color = ipywidgets.widgets.ColorPicker(\n",
    "    description='Pick a color',\n",
    "    value='blue',\n",
    "    \n",
    ")\n"
   ]
  },
  {
   "cell_type": "markdown",
   "metadata": {},
   "source": [
    "Next, the `ipywidgets.Inslider` will be used to adjust the marker size."
   ]
  },
  {
   "cell_type": "code",
   "execution_count": null,
   "metadata": {},
   "outputs": [],
   "source": [
    "s = ipywidgets.IntSlider(\n",
    "    value=7,\n",
    "    min=0,\n",
    "    max=50,\n",
    "    step=1,\n",
    "    description='Point size:',\n",
    "    disabled=False,\n",
    "    orientation='horizontal',\n",
    ")"
   ]
  },
  {
   "cell_type": "markdown",
   "metadata": {},
   "source": [
    "The `ipywidgets.Drowdown` widget will have options for different marker symbols."
   ]
  },
  {
   "cell_type": "code",
   "execution_count": null,
   "metadata": {},
   "outputs": [],
   "source": [
    "m = ipywidgets.Dropdown(\n",
    "    options=['*', 'd', '^', 'v', '>', '<', 'x'],\n",
    "    value='*',\n",
    "    description='Symbol:',\n",
    "    disabled=False,\n",
    ")"
   ]
  },
  {
   "cell_type": "markdown",
   "metadata": {},
   "source": [
    "We'll then create a function called `autompg_plot` with a call to `hvplot.scatter` that includes our variables we will have in the application (our independent and dependent variables as well as the color, size and shape of the markers).\n",
    "\n",
    "The function we are creating can be wrapped in the decorator `panel.depends`, which will be tracking whether the widgets specified (independent, dependent, color, s, and m) are changed by the user.  If they are, the function will be called, and, in this case, the plot will be updated."
   ]
  },
  {
   "cell_type": "code",
   "execution_count": null,
   "metadata": {},
   "outputs": [],
   "source": [
    "@panel.depends(independent, dependent, color, s, m)\n",
    "def autompg_plot(x, y, color, s, m):\n",
    "    return bokeh.sampledata.autompg.autompg.hvplot.scatter(independent, dependent, c=color, size=s, marker=m)"
   ]
  },
  {
   "cell_type": "markdown",
   "metadata": {},
   "source": [
    "Finally, creating the panel app layout, using `panel.Row()` and `panel.Column`, allows us to display our application in a way that we want.  Below, we will have 1 row that includes a column on the left for some markdown text, the drop down menus for `x` and `y`, the color picker ipywidget, the ipywidget intslider for marker size, and the drop down menu for symbol.  Also in that row, you have the automg_plot, which displays the scatter plot of the data selected in our widgets."
   ]
  },
  {
   "cell_type": "code",
   "execution_count": null,
   "metadata": {},
   "outputs": [],
   "source": [
    "panel.Row(\n",
    "    panel.Column('## MPG Explorer', independent, dependent, color, s, m),\n",
    "    autompg_plot)"
   ]
  },
  {
   "cell_type": "markdown",
   "metadata": {},
   "source": [
    "Using these ipywidgets was as simple as using them just as you would an panel widgets!  The great thing about this is that you now have a greater number of widgets available to use within panel applications.  Also, some ipywidgets come with a few different styling options that you may desire instead of what is offered in panel.  Either way, its so nice to have this capability.  "
   ]
  }
 ],
 "metadata": {
  "kernelspec": {
   "display_name": "Python 3",
   "language": "python",
   "name": "python3"
  },
  "language_info": {
   "codemirror_mode": {
    "name": "ipython",
    "version": 3
   },
   "file_extension": ".py",
   "mimetype": "text/x-python",
   "name": "python",
   "nbconvert_exporter": "python",
   "pygments_lexer": "ipython3",
   "version": "3.8.5"
  }
 },
 "nbformat": 4,
 "nbformat_minor": 4
}

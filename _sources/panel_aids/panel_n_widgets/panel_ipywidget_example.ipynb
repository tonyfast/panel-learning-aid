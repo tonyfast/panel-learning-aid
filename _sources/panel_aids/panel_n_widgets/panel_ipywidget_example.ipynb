{
 "cells": [
  {
   "cell_type": "markdown",
   "metadata": {},
   "source": [
    "# Working across `panel` and `ipywidgets` ecosystems\n",
    "\n",
    "[`panel`](https://panel.holoviz.org/index.html) is a open source python library that makes it easy to build interactive web apps and dashboards with user defined widgets.  There are a whole set of widgets available to use in the panel library.  However, did you know that you can also use [`ipywidgets`](https://ipywidgets.readthedocs.io/en/latest/) in panel as seamlessly as using panel widgets?  \n",
    "\n",
    "## What are widgets?\n",
    "\n",
    "`panel` and `ipywidgets` have two different patterns for widgets that, in the past, required authors to choose between one ecosystem or the other. The union of these ecosystems opens up enormous possibilities for graphical user interfaces to interact with in notebooks and web applications."
   ]
  },
  {
   "cell_type": "markdown",
   "metadata": {},
   "source": [
    "## `panel` and `ipywidgets` demonstration.\n",
    "\n",
    "This notebook will show you an example that uses ipywigets in a `panel` app.  We are going to take and modify an [example](https://panel.holoviz.org/user_guide/APIs.html) from the `panel` website and switch out the `panel.ColorPicker` widget with the `ipywidgets.ColorPicker` widget.  We'll also add a few other `ipywidgets` to change the size and shape of the markers just for fun."
   ]
  },
  {
   "cell_type": "code",
   "execution_count": null,
   "metadata": {},
   "outputs": [],
   "source": [
    "import hvplot.pandas, panel, ipywidgets, bokeh.sampledata.autompg; panel.extension()"
   ]
  },
  {
   "cell_type": "markdown",
   "metadata": {},
   "source": [
    "`autompg` is a sample dataframe included in the bokeh package.  It includes the columns shown here."
   ]
  },
  {
   "cell_type": "code",
   "execution_count": null,
   "metadata": {},
   "outputs": [],
   "source": [
    "bokeh.sampledata.autompg.autompg.head()"
   ]
  },
  {
   "cell_type": "markdown",
   "metadata": {},
   "source": [
    "## widgets with `panel` and `hvplot`\n",
    "\n",
    "We can use `hvplot` to plot the `autompg`; this plot is a kind of `panel` widget that will develop a graphical user interface to interact with."
   ]
  },
  {
   "cell_type": "code",
   "execution_count": null,
   "metadata": {},
   "outputs": [],
   "source": [
    "bokeh.sampledata.autompg.autompg.hvplot.scatter('mpg', 'hp')"
   ]
  },
  {
   "cell_type": "markdown",
   "metadata": {},
   "source": [
    "First, we'll define a few **panel** widgets.  Both of the widgets `range` and `domain` are drop down menus that will display the different columns from the autompg dataframe as options for the independent and dependent variables of our plot."
   ]
  },
  {
   "cell_type": "code",
   "execution_count": null,
   "metadata": {},
   "outputs": [],
   "source": [
    "domain = panel.widgets.Select(value='mpg', options=list(bokeh.sampledata.autompg.autompg.columns[:-2]), name='x')\n",
    "range = panel.widgets.Select(value='hp', options=list(bokeh.sampledata.autompg.autompg.columns[:-2]), name='y')"
   ]
  },
  {
   "cell_type": "markdown",
   "metadata": {},
   "source": [
    "### `ipywidgets`"
   ]
  },
  {
   "cell_type": "markdown",
   "metadata": {},
   "source": [
    "Next, we'll define some **ipywidgets**.\n",
    "\n",
    "The first one is an ipywidget that will be used to change the color of the markers."
   ]
  },
  {
   "cell_type": "code",
   "execution_count": null,
   "metadata": {},
   "outputs": [],
   "source": [
    "color = ipywidgets.widgets.ColorPicker(\n",
    "    description='Pick a color',\n",
    "    value='blue',\n",
    "    \n",
    ")"
   ]
  },
  {
   "cell_type": "markdown",
   "metadata": {},
   "source": [
    "Next, the `ipywidgets.IntSlider` will be used to adjust the marker size."
   ]
  },
  {
   "cell_type": "code",
   "execution_count": null,
   "metadata": {},
   "outputs": [],
   "source": [
    "size = ipywidgets.IntSlider(\n",
    "    value=7,\n",
    "    min=0,\n",
    "    max=50,\n",
    "    step=1,\n",
    "    description='Point size:',\n",
    "    disabled=False,\n",
    "    orientation='horizontal',\n",
    ")"
   ]
  },
  {
   "cell_type": "markdown",
   "metadata": {},
   "source": [
    "The `ipywidgets.Dropdown` widget will have options for different marker symbols."
   ]
  },
  {
   "cell_type": "code",
   "execution_count": null,
   "metadata": {},
   "outputs": [],
   "source": [
    "marker = ipywidgets.Dropdown(\n",
    "    options=list('*d^v><x'),\n",
    "    value='*',\n",
    "    description='Symbol:',\n",
    "    disabled=False,\n",
    ")"
   ]
  },
  {
   "cell_type": "markdown",
   "metadata": {},
   "source": [
    "We'll then create a function called `autompg_plot` with a call to `hvplot.scatter` that includes our variables we will have in the application (our independent and dependent variables as well as the color, size and shape of the markers).\n",
    "\n",
    "The function we are creating can be wrapped in the decorator `panel.depends`, which will be tracking whether the widgets specified (range, domain, color, s, and m) are changed by the user.  If they are, the function will be called, and, in this case, the plot will be updated."
   ]
  },
  {
   "cell_type": "markdown",
   "metadata": {},
   "source": [
    "## Linking interactions in each ecosystem"
   ]
  },
  {
   "cell_type": "code",
   "execution_count": null,
   "metadata": {},
   "outputs": [],
   "source": [
    "@panel.depends(domain, range, color, size, marker)\n",
    "def autompg_plot(domain, range, color, size, marker):\n",
    "    return bokeh.sampledata.autompg.autompg.hvplot.scatter(domain, range, c=color, size=size, marker=marker)"
   ]
  },
  {
   "cell_type": "markdown",
   "metadata": {},
   "source": [
    "Finally, creating the panel app layout, using `panel.Row()` and `panel.Column`, allows us to display our application in a way that we want.  Below, we will have 1 row that includes a column on the left for some markdown text, the drop down menus for `x` and `y`, the color picker ipywidget, the ipywidget intslider for marker size, and the drop down menu for symbol.  Also in that row, you have the automg_plot, which displays the scatter plot of the data selected in our widgets."
   ]
  },
  {
   "cell_type": "code",
   "execution_count": null,
   "metadata": {},
   "outputs": [],
   "source": [
    "panel.Row(\n",
    "    panel.Column('## MPG Explorer', domain, range, color, size, marker),\n",
    "    autompg_plot)"
   ]
  },
  {
   "cell_type": "markdown",
   "metadata": {},
   "source": [
    "## Conclusion\n",
    "\n",
    "Using these `ipywidgets` was as simple as using them just as you would any `panel` widgets!  The great thing about this is that you now have a greater number of widgets available to use within panel applications.  Also, some ipywidgets come with a few different styling options that you may desire instead of what is offered in panel.  Either way, its so nice to have this capability.  "
   ]
  },
  {
   "cell_type": "code",
   "execution_count": null,
   "metadata": {},
   "outputs": [],
   "source": []
  }
 ],
 "metadata": {
  "kernelspec": {
   "display_name": "Python 3",
   "language": "python",
   "name": "python3"
  },
  "language_info": {
   "codemirror_mode": {
    "name": "ipython",
    "version": 3
   },
   "file_extension": ".py",
   "mimetype": "text/x-python",
   "name": "python",
   "nbconvert_exporter": "python",
   "pygments_lexer": "ipython3",
   "version": "3.9.0"
  }
 },
 "nbformat": 4,
 "nbformat_minor": 4
}
